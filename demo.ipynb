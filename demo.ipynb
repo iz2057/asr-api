{
 "cells": [
  {
   "cell_type": "code",
   "execution_count": 28,
   "metadata": {},
   "outputs": [],
   "source": [
    "import requests\n",
    "\n",
    "def parse_audio_to_binary(file_path):\n",
    "    try:\n",
    "        with open(file_path, 'rb') as f: \n",
    "            raw_data = f.read()\n",
    "        return raw_data\n",
    "    \n",
    "    except Exception as e:\n",
    "        print(e)\n",
    "        return None\n",
    "\n",
    "def call_asr_api(raw_audio):\n",
    "    files = {'file': raw_audio}\n",
    "    response = requests.post(api_endpoint, files=files)\n",
    "    response = response.json()\n",
    "    \n",
    "    if 'error' in response:\n",
    "        duration, transcription = 0, 0\n",
    "    else:\n",
    "        duration, transcription = response['duration'], response['transcription']\n",
    "\n",
    "    return duration, transcription"
   ]
  },
  {
   "cell_type": "code",
   "execution_count": 19,
   "metadata": {},
   "outputs": [],
   "source": [
    "elastic_endpoint = 'http://34.94.242.203:9200'"
   ]
  },
  {
   "cell_type": "code",
   "execution_count": 29,
   "metadata": {},
   "outputs": [],
   "source": [
    "ping_endpoint = 'http://35.236.42.100:8001/ping'\n",
    "api_endpoint = 'http://35.236.42.100:8001/asr'"
   ]
  },
  {
   "cell_type": "code",
   "execution_count": 30,
   "metadata": {},
   "outputs": [],
   "source": [
    "def test_ping(endpoint):\n",
    "    r = requests.get(endpoint).content.decode()\n",
    "    print(r)"
   ]
  },
  {
   "cell_type": "code",
   "execution_count": 31,
   "metadata": {},
   "outputs": [
    {
     "name": "stdout",
     "output_type": "stream",
     "text": [
      "pong\n"
     ]
    }
   ],
   "source": [
    "test_ping(ping_endpoint)"
   ]
  },
  {
   "cell_type": "code",
   "execution_count": 32,
   "metadata": {},
   "outputs": [
    {
     "name": "stdout",
     "output_type": "stream",
     "text": [
      "3.483 HELLO MY NAME IS ISAAC\n"
     ]
    }
   ],
   "source": [
    "raw_audio  = parse_audio_to_binary('./asr-api/sample.mp3')\n",
    "duration, transcription = call_asr_api(raw_audio)\n",
    "print(duration, transcription)"
   ]
  },
  {
   "cell_type": "code",
   "execution_count": 33,
   "metadata": {},
   "outputs": [
    {
     "name": "stdout",
     "output_type": "stream",
     "text": [
      "{\n",
      "  \"name\" : \"es01\",\n",
      "  \"cluster_name\" : \"docker-cluster\",\n",
      "  \"cluster_uuid\" : \"0Exf6ka8R8yv_tvq1RoR8Q\",\n",
      "  \"version\" : {\n",
      "    \"number\" : \"8.11.1\",\n",
      "    \"build_flavor\" : \"default\",\n",
      "    \"build_type\" : \"docker\",\n",
      "    \"build_hash\" : \"6f9ff581fbcde658e6f69d6ce03050f060d1fd0c\",\n",
      "    \"build_date\" : \"2023-11-11T10:05:59.421038163Z\",\n",
      "    \"build_snapshot\" : false,\n",
      "    \"lucene_version\" : \"9.8.0\",\n",
      "    \"minimum_wire_compatibility_version\" : \"7.17.0\",\n",
      "    \"minimum_index_compatibility_version\" : \"7.0.0\"\n",
      "  },\n",
      "  \"tagline\" : \"You Know, for Search\"\n",
      "}\n",
      "\n"
     ]
    }
   ],
   "source": [
    "test_ping(elastic_endpoint)"
   ]
  },
  {
   "cell_type": "code",
   "execution_count": null,
   "metadata": {},
   "outputs": [],
   "source": [
    "eval(!curl -X GET \"http://34.94.242.203:9200/cv-transcriptions/_search\" -H 'Content-Type: application/json' -d\n",
    "  \"query\": {\n",
    "    \"range\": {\n",
    "      \"duration\": {\n",
    "        \"lt\": 5\n",
    "      }\n",
    "    }\n",
    "  }\n",
    "}'\n",
    ")"
   ]
  }
 ],
 "metadata": {
  "kernelspec": {
   "display_name": "Python 3 (ipykernel)",
   "language": "python",
   "name": "python3"
  },
  "language_info": {
   "codemirror_mode": {
    "name": "ipython",
    "version": 3
   },
   "file_extension": ".py",
   "mimetype": "text/x-python",
   "name": "python",
   "nbconvert_exporter": "python",
   "pygments_lexer": "ipython3",
   "version": "3.12.0"
  }
 },
 "nbformat": 4,
 "nbformat_minor": 2
}
